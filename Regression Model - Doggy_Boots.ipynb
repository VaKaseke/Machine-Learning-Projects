{
 "cells": [
  {
   "cell_type": "code",
   "execution_count": 18,
   "id": "6a9e839e",
   "metadata": {},
   "outputs": [
    {
     "name": "stdout",
     "output_type": "stream",
     "text": [
      "Requirement already satisfied: statsmodels in c:\\users\\tinashe.kaseke\\python\\lib\\site-packages (0.13.0)\n",
      "Requirement already satisfied: numpy>=1.17 in c:\\users\\tinashe.kaseke\\python\\lib\\site-packages (from statsmodels) (1.21.2)\n",
      "Requirement already satisfied: scipy>=1.3 in c:\\users\\tinashe.kaseke\\python\\lib\\site-packages (from statsmodels) (1.7.1)\n",
      "Requirement already satisfied: pandas>=0.25 in c:\\users\\tinashe.kaseke\\python\\lib\\site-packages (from statsmodels) (1.3.4)\n",
      "Requirement already satisfied: patsy>=0.5.2 in c:\\users\\tinashe.kaseke\\python\\lib\\site-packages (from statsmodels) (0.5.2)\n",
      "Requirement already satisfied: pytz>=2017.3 in c:\\users\\tinashe.kaseke\\python\\lib\\site-packages (from pandas>=0.25->statsmodels) (2021.3)\n",
      "Requirement already satisfied: python-dateutil>=2.7.3 in c:\\users\\tinashe.kaseke\\python\\lib\\site-packages (from pandas>=0.25->statsmodels) (2.8.2)\n",
      "Requirement already satisfied: six in c:\\users\\tinashe.kaseke\\python\\lib\\site-packages (from patsy>=0.5.2->statsmodels) (1.16.0)\n"
     ]
    }
   ],
   "source": [
    "# Import libraries\n",
    "import pandas as pd\n",
    "!pip install statsmodels\n",
    "%matplotlib inline\n",
    "from matplotlib import pyplot as plt\n",
    "import numpy as np"
   ]
  },
  {
   "cell_type": "code",
   "execution_count": 2,
   "id": "2c669fd3",
   "metadata": {},
   "outputs": [
    {
     "name": "stderr",
     "output_type": "stream",
     "text": [
      "'wget' is not recognized as an internal or external command,\n",
      "operable program or batch file.\n"
     ]
    }
   ],
   "source": [
    "# Load data\n",
    "!wget https://raw.githubusercontent.com/MicrosoftDocs/mslearn-introduction-to-machine-learning/main/Data/doggy-boot-harness.csv"
   ]
  },
  {
   "cell_type": "code",
   "execution_count": 6,
   "id": "fded2701",
   "metadata": {},
   "outputs": [],
   "source": [
    "# Hard coding data\n",
    "data = {\n",
    "    'boot_size' : [ 39, 38, 37, 39, 38, 35, 37, 36, 35, 40, \n",
    "                    40, 36, 38, 39, 42, 42, 36, 36, 35, 41, \n",
    "                    42, 38, 37, 35, 40, 36, 35, 39, 41, 37, \n",
    "                    35, 41, 39, 41, 42, 42, 36, 37, 37, 39,\n",
    "                    42, 35, 36, 41, 41, 41, 39, 39, 35, 39\n",
    " ],\n",
    "    'harness_size': [ 58, 58, 52, 58, 57, 52, 55, 53, 49, 54,\n",
    "                59, 56, 53, 58, 57, 58, 56, 51, 50, 59,\n",
    "                59, 59, 55, 50, 55, 52, 53, 54, 61, 56,\n",
    "                55, 60, 57, 56, 61, 58, 53, 57, 57, 55,\n",
    "                60, 51, 52, 56, 55, 57, 58, 57, 51, 59\n",
    "                ]\n",
    "}\n"
   ]
  },
  {
   "cell_type": "code",
   "execution_count": 7,
   "id": "67c0d1d8",
   "metadata": {},
   "outputs": [],
   "source": [
    "# Create Dataframe\n",
    "dataset=pd.DataFrame(data)"
   ]
  },
  {
   "cell_type": "code",
   "execution_count": 8,
   "id": "80883504",
   "metadata": {},
   "outputs": [
    {
     "data": {
      "text/html": [
       "<div>\n",
       "<style scoped>\n",
       "    .dataframe tbody tr th:only-of-type {\n",
       "        vertical-align: middle;\n",
       "    }\n",
       "\n",
       "    .dataframe tbody tr th {\n",
       "        vertical-align: top;\n",
       "    }\n",
       "\n",
       "    .dataframe thead th {\n",
       "        text-align: right;\n",
       "    }\n",
       "</style>\n",
       "<table border=\"1\" class=\"dataframe\">\n",
       "  <thead>\n",
       "    <tr style=\"text-align: right;\">\n",
       "      <th></th>\n",
       "      <th>boot_size</th>\n",
       "      <th>harness_size</th>\n",
       "    </tr>\n",
       "  </thead>\n",
       "  <tbody>\n",
       "    <tr>\n",
       "      <th>0</th>\n",
       "      <td>39</td>\n",
       "      <td>58</td>\n",
       "    </tr>\n",
       "    <tr>\n",
       "      <th>1</th>\n",
       "      <td>38</td>\n",
       "      <td>58</td>\n",
       "    </tr>\n",
       "    <tr>\n",
       "      <th>2</th>\n",
       "      <td>37</td>\n",
       "      <td>52</td>\n",
       "    </tr>\n",
       "    <tr>\n",
       "      <th>3</th>\n",
       "      <td>39</td>\n",
       "      <td>58</td>\n",
       "    </tr>\n",
       "    <tr>\n",
       "      <th>4</th>\n",
       "      <td>38</td>\n",
       "      <td>57</td>\n",
       "    </tr>\n",
       "  </tbody>\n",
       "</table>\n",
       "</div>"
      ],
      "text/plain": [
       "   boot_size  harness_size\n",
       "0         39            58\n",
       "1         38            58\n",
       "2         37            52\n",
       "3         39            58\n",
       "4         38            57"
      ]
     },
     "execution_count": 8,
     "metadata": {},
     "output_type": "execute_result"
    }
   ],
   "source": [
    "# Inspect dataset\n",
    "dataset.head()"
   ]
  },
  {
   "cell_type": "code",
   "execution_count": 9,
   "id": "831c257e",
   "metadata": {},
   "outputs": [],
   "source": [
    "# Select model and load - OLS\n",
    "import statsmodels.formula.api as smf"
   ]
  },
  {
   "cell_type": "code",
   "execution_count": 10,
   "id": "0c8e7e89",
   "metadata": {},
   "outputs": [],
   "source": [
    "# Define formula\n",
    "formula = 'boot_size ~ harness_size'"
   ]
  },
  {
   "cell_type": "code",
   "execution_count": 11,
   "id": "e33a212a",
   "metadata": {},
   "outputs": [],
   "source": [
    "# Create model\n",
    "model = smf.ols(formula=formula,data=dataset)"
   ]
  },
  {
   "cell_type": "code",
   "execution_count": 12,
   "id": "35d38148",
   "metadata": {},
   "outputs": [],
   "source": [
    "# Train model\n",
    "fitted_model=model.fit()"
   ]
  },
  {
   "cell_type": "code",
   "execution_count": 13,
   "id": "c0d0edeb",
   "metadata": {},
   "outputs": [
    {
     "name": "stdout",
     "output_type": "stream",
     "text": [
      "The following parameters have been found:\n",
      "Line Intercept: 5.719109812682602\n",
      "Slope: 0.5859254167382707\n"
     ]
    }
   ],
   "source": [
    "# View parameters of the model after it has been fit\n",
    "print(f'The following parameters have been found:\\nLine Intercept: {fitted_model.params[0]}\\nSlope: {fitted_model.params[1]}')"
   ]
  },
  {
   "cell_type": "code",
   "execution_count": 23,
   "id": "69e83fae",
   "metadata": {},
   "outputs": [
    {
     "data": {
      "image/png": "[encoded data removed]",
      "text/plain": [
       "<Figure size 432x288 with 1 Axes>"
      ]
     },
     "metadata": {
      "needs_background": "light"
     },
     "output_type": "display_data"
    }
   ],
   "source": [
    "# Visualize result on a graph\n",
    "plt.scatter(x=dataset['harness_size'],y=dataset['boot_size'])\n",
    "\n",
    "# Overlay regression line\n",
    "z=np.polyfit(dataset['harness_size'],dataset['boot_size'],1)\n",
    "p=np.poly1d(z)\n",
    "plt.plot(dataset['harness_size'],p(dataset['harness_size']),color='magenta')\n",
    "plt.show()"
   ]
  },
  {
   "cell_type": "code",
   "execution_count": 25,
   "id": "a66d08be",
   "metadata": {},
   "outputs": [
    {
     "name": "stdout",
     "output_type": "stream",
     "text": [
      "Estimated boot size:\n",
      "36.48019419144181\n"
     ]
    }
   ],
   "source": [
    "# Using model to predict\n",
    "harness_size = {'harness_size':52.5}\n",
    "predicted_boot_size = fitted_model.predict(harness_size)\n",
    "\n",
    "print('Estimated boot size:')\n",
    "print(predicted_boot_size[0])"
   ]
  },
  {
   "cell_type": "code",
   "execution_count": null,
   "id": "93afeba7",
   "metadata": {},
   "outputs": [],
   "source": []
  }
 ],
 "metadata": {
  "kernelspec": {
   "display_name": "Python 3 (ipykernel)",
   "language": "python",
   "name": "python3"
  },
  "language_info": {
   "codemirror_mode": {
    "name": "ipython",
    "version": 3
   },
   "file_extension": ".py",
   "mimetype": "text/x-python",
   "name": "python",
   "nbconvert_exporter": "python",
   "pygments_lexer": "ipython3",
   "version": "3.7.3"
  }
 },
 "nbformat": 4,
 "nbformat_minor": 5
}
